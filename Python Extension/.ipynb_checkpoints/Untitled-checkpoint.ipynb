{
 "cells": [
  {
   "cell_type": "code",
   "execution_count": 2,
   "id": "dfcf05d1-06d5-43db-98df-e8d65a4d863a",
   "metadata": {},
   "outputs": [
    {
     "name": "stdout",
     "output_type": "stream",
     "text": [
      "starting course search\n",
      "0   E = 1 Boundary deviation  0.29325502488790867\n",
      "1   E = 1.1 Boundary deviation  0.16939359848764307\n",
      "2   E = 1.2000000000000002 Boundary deviation  0.04289855057947203\n",
      "3   E = 1.3000000000000003 Boundary deviation  -0.08430085189500676\n",
      "starting bisection\n",
      "1   E = 1.2500000000000002 Boundary deviation  -0.020747529694047258\n",
      "2   E = 1.225 Boundary deviation  0.011081467662819654\n",
      "3   E = 1.2375000000000003 Boundary deviation  -0.00483369444354921\n",
      "4   E = 1.2312500000000002 Boundary deviation  0.0031239926155006725\n",
      "5   E = 1.2343750000000002 Boundary deviation  -0.0008548582279435003\n",
      "6   E = 1.2328125 Boundary deviation  0.001134569602839629\n",
      "7   E = 1.2335937500000003 Boundary deviation  0.00013985576073675696\n",
      "8   E = 1.2339843750000004 Boundary deviation  -0.00035750128151774963\n",
      "9   E = 1.2337890625000003 Boundary deviation  -0.00010882276409738135\n",
      "10   E = 1.2336914062500002 Boundary deviation  1.551649842916393e-05\n",
      "11   E = 1.2337402343750004 Boundary deviation  -4.665313293787531e-05\n",
      "12   E = 1.2337158203125003 Boundary deviation  -1.5568317382368397e-05\n",
      "13   E = 1.2337036132812502 Boundary deviation  -2.5909490152095845e-08\n"
     ]
    }
   ],
   "source": [
    "import Integrator\n",
    "test = Integrator.Integrator(1, 100, 1, 0.1)\n",
    "test.findWavefunction()"
   ]
  },
  {
   "cell_type": "code",
   "execution_count": null,
   "id": "2094f9d8-57b0-46f3-b568-267c5b1ad7f9",
   "metadata": {},
   "outputs": [],
   "source": [
    "import Integrator\n",
    "import Particle\n",
    "import matplotlib.pyplot as plt\n",
    "\n",
    "\n",
    "for "
   ]
  },
  {
   "cell_type": "code",
   "execution_count": null,
   "id": "aaf58543-07e0-4488-8503-fb9c5d8ce2ae",
   "metadata": {},
   "outputs": [],
   "source": []
  }
 ],
 "metadata": {
  "kernelspec": {
   "display_name": "Python 3",
   "language": "python",
   "name": "python3"
  },
  "language_info": {
   "codemirror_mode": {
    "name": "ipython",
    "version": 3
   },
   "file_extension": ".py",
   "mimetype": "text/x-python",
   "name": "python",
   "nbconvert_exporter": "python",
   "pygments_lexer": "ipython3",
   "version": "3.8.8"
  }
 },
 "nbformat": 4,
 "nbformat_minor": 5
}
