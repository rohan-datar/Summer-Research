{
 "cells": [
  {
   "cell_type": "code",
   "execution_count": 4,
   "id": "dfcf05d1-06d5-43db-98df-e8d65a4d863a",
   "metadata": {},
   "outputs": [
    {
     "ename": "SyntaxError",
     "evalue": "invalid syntax (<ipython-input-4-53f8935df909>, line 1)",
     "output_type": "error",
     "traceback": [
      "\u001b[0;36m  File \u001b[0;32m\"<ipython-input-4-53f8935df909>\"\u001b[0;36m, line \u001b[0;32m1\u001b[0m\n\u001b[0;31m    from Shooting-Class.py import findWavefunction\u001b[0m\n\u001b[0m                 ^\u001b[0m\n\u001b[0;31mSyntaxError\u001b[0m\u001b[0;31m:\u001b[0m invalid syntax\n"
     ]
    }
   ],
   "source": [
    "from Shooting-Class.py import Integrator\n",
    "\n",
    "test = Integrator(1, 100, 1, 0.1)\n",
    "test.findWavefunction()"
   ]
  },
  {
   "cell_type": "code",
   "execution_count": null,
   "id": "2094f9d8-57b0-46f3-b568-267c5b1ad7f9",
   "metadata": {},
   "outputs": [],
   "source": []
  }
 ],
 "metadata": {
  "kernelspec": {
   "display_name": "Python 3",
   "language": "python",
   "name": "python3"
  },
  "language_info": {
   "codemirror_mode": {
    "name": "ipython",
    "version": 3
   },
   "file_extension": ".py",
   "mimetype": "text/x-python",
   "name": "python",
   "nbconvert_exporter": "python",
   "pygments_lexer": "ipython3",
   "version": "3.8.8"
  }
 },
 "nbformat": 4,
 "nbformat_minor": 5
}
