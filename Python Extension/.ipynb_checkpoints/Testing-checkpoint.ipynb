{
 "cells": [
  {
   "cell_type": "code",
   "execution_count": 2,
   "id": "dfcf05d1-06d5-43db-98df-e8d65a4d863a",
   "metadata": {},
   "outputs": [
    {
     "name": "stdout",
     "output_type": "stream",
     "text": [
      "starting course search\n",
      "0   E = 1 Boundary deviation  0.29325502488790867\n",
      "1   E = 1.1 Boundary deviation  0.16939359848764307\n",
      "2   E = 1.2000000000000002 Boundary deviation  0.04289855057947203\n",
      "3   E = 1.3000000000000003 Boundary deviation  -0.08430085189500676\n",
      "starting bisection\n",
      "1   E = 1.2500000000000002 Boundary deviation  -0.020747529694047258\n",
      "2   E = 1.225 Boundary deviation  0.011081467662819654\n",
      "3   E = 1.2375000000000003 Boundary deviation  -0.00483369444354921\n",
      "4   E = 1.2312500000000002 Boundary deviation  0.0031239926155006725\n",
      "5   E = 1.2343750000000002 Boundary deviation  -0.0008548582279435003\n",
      "6   E = 1.2328125 Boundary deviation  0.001134569602839629\n",
      "7   E = 1.2335937500000003 Boundary deviation  0.00013985576073675696\n",
      "8   E = 1.2339843750000004 Boundary deviation  -0.00035750128151774963\n",
      "9   E = 1.2337890625000003 Boundary deviation  -0.00010882276409738135\n",
      "10   E = 1.2336914062500002 Boundary deviation  1.551649842916393e-05\n",
      "11   E = 1.2337402343750004 Boundary deviation  -4.665313293787531e-05\n",
      "12   E = 1.2337158203125003 Boundary deviation  -1.5568317382368397e-05\n",
      "13   E = 1.2337036132812502 Boundary deviation  -2.5909490152095845e-08\n"
     ]
    }
   ],
   "source": [
    "import Integrator\n",
    "test = Integrator.Integrator(1, 100, 1, 0.1)\n",
    "test.findWavefunction()"
   ]
  },
  {
   "cell_type": "code",
   "execution_count": 28,
   "id": "2094f9d8-57b0-46f3-b568-267c5b1ad7f9",
   "metadata": {},
   "outputs": [
    {
     "data": {
      "text/plain": [
       "Text(0, 0.5, '$energy$ $error$')"
      ]
     },
     "execution_count": 28,
     "metadata": {},
     "output_type": "execute_result"
    },
    {
     "data": {
      "image/png": "[encoded data removed]",
      "text/plain": [
       "<Figure size 432x288 with 1 Axes>"
      ]
     },
     "metadata": {
      "needs_background": "light"
     },
     "output_type": "display_data"
    }
   ],
   "source": [
    "#plot E vs dx\n",
    "import Integrator as I\n",
    "import Particle as P\n",
    "import matplotlib.pyplot as plt\n",
    "import numpy as np\n",
    "import math\n",
    "\n",
    "dx = np.empty(4)\n",
    "energy = np.empty(4)\n",
    "wfunc_rms = np.empty(4)\n",
    "nx = 10\n",
    "\n",
    "\n",
    "\n",
    "for i in range(4):\n",
    "    \n",
    "    dx[i] = 1/nx\n",
    "    \n",
    "    Int = I.Integrator(1, nx, 1, 0.5)\n",
    "    particle = Int.findWavefunction()\n",
    "    \n",
    "    energy[i] = particle.getEnergy()\n",
    "    wfunc = particle.getWaveFunction()\n",
    "    \n",
    "    x = np.linspace(-1, 1, (2*nx+1))\n",
    "    \n",
    "    psi = np.cos((np.pi*x)/2)\n",
    "    \n",
    "\n",
    "    wfunc_rms[i] = np.sqrt((1/nx)*(np.sum(np.power((wfunc-psi), 2))))\n",
    "    \n",
    "    \n",
    "    nx += nx\n",
    "    \n",
    "\n",
    "'''\n",
    "plt.plot(dx, energy)\n",
    "plt.xlabel(r'$dx$')\n",
    "plt.ylabel(r'$energy$')\n",
    "'''\n",
    "\n",
    "\n",
    "\n",
    "energy_diff = np.abs(energy - (math.pow(math.pi, 2)/8))\n",
    "plt.plot(dx, energy_diff)\n",
    "plt.yscale('log')\n",
    "plt.xlabel(r'$dx$')\n",
    "plt.ylabel(r'$energy$ $error$')\n"
   ]
  },
  {
   "cell_type": "code",
   "execution_count": 30,
   "id": "aaf58543-07e0-4488-8503-fb9c5d8ce2ae",
   "metadata": {},
   "outputs": [
    {
     "data": {
      "text/plain": [
       "Text(0, 0.5, '$psi$ $error$')"
      ]
     },
     "execution_count": 30,
     "metadata": {},
     "output_type": "execute_result"
    },
    {
     "data": {
      "image/png": "[encoded data removed]",
      "text/plain": [
       "<Figure size 432x288 with 1 Axes>"
      ]
     },
     "metadata": {
      "needs_background": "light"
     },
     "output_type": "display_data"
    }
   ],
   "source": [
    "plt.plot(dx, wfunc_rms)\n",
    "plt.yscale('log')\n",
    "plt.xlabel(r'$dx$')\n",
    "plt.ylabel(r'$psi$ $error$')"
   ]
  },
  {
   "cell_type": "code",
   "execution_count": null,
   "id": "be970a1a-64ab-4b93-ae4c-6b499c732794",
   "metadata": {},
   "outputs": [],
   "source": []
  }
 ],
 "metadata": {
  "kernelspec": {
   "display_name": "Python 3",
   "language": "python",
   "name": "python3"
  },
  "language_info": {
   "codemirror_mode": {
    "name": "ipython",
    "version": 3
   },
   "file_extension": ".py",
   "mimetype": "text/x-python",
   "name": "python",
   "nbconvert_exporter": "python",
   "pygments_lexer": "ipython3",
   "version": "3.8.8"
  }
 },
 "nbformat": 4,
 "nbformat_minor": 5
}
