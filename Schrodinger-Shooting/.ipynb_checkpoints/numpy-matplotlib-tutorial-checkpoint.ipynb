{
 "cells": [
  {
   "cell_type": "markdown",
   "metadata": {
    "id": "tWGBubRtRxE8"
   },
   "source": [
    "# After working through this notebook, you should be able to...\n",
    "\n",
    "1. Create and manipulate Python lists.\n",
    "1. Import the NumPy and SciPy packages to extend the functionality of standard Python to include powerful numerical methods.\n",
    "1. Use NumPy to\n",
    "    1. Create arrays and perform operations on arrays\n",
    "    2. Call entries of an array, reassign values of entries of an array\n",
    "    3. Use vectorization to avoid writing loops to make code more readable, compact, and efficient\n",
    "1. Import the pyplot plotting package and use it to\n",
    "    1. Generate simple 2D plots\n",
    "    2. Change plot attributes like line colors, line styles, and axis labels"
   ]
  },
  {
   "cell_type": "markdown",
   "metadata": {
    "id": "DWavuse3RxFI"
   },
   "source": [
    "## Lists - containers for storing objects in a specific order\n",
    "\n",
    "Suppose that in the course of a program, you want to generate a list of numbers and then store those numbers in memory so that you can use them again.  For example, perhaps you want to generate the list of positions of a runner who is moving in one dimension, and you want to store these positions so that you can use them later in your program.  The most basic way to do this in Python is to create an object not-surprisingly called a **list** to hold the data.\n",
    "\n",
    "### Creating lists and adding items to them\n",
    "\n",
    "Lists are denoted by square brackets in python, and list elements are separated by commas.  For example, a list containing the numbers $1, 2, 3$ in ascending order would be typed out as follows:\n",
    "\n",
    "    [1, 2, 3]\n",
    "    \n",
    "The ordering of elements in a list matters, so if you instead typed the following list:\n",
    "\n",
    "    [1, 3, 2]\n",
    "    \n",
    "the python interpreter would consider this to be a different object.  An empty list can be typed as follows:\n",
    "\n",
    "    []\n",
    "    \n",
    "Lists are **mutable** which is computer science jargon for something that can be modified.  This is as opposed to **immutable** objects which are things that cannot be modified (e.g. strings).  In particular, the number of items in a list can change during the course of a program.\n",
    "\n",
    "An object can be added to the end of a list using the `append` method.  For example, if you want to add the number $4$ to the end of the list `[1, 2, 3]`, then you can type\n",
    "\n",
    "    my_list = [1, 2, 3]\n",
    "    my_list.append(4)\n",
    "    \n",
    "and as a result, `my_list` will now be `[1, 2, 3, 4]`."
   ]
  },
  {
   "cell_type": "markdown",
   "metadata": {
    "id": "hWbxysoeRxFN"
   },
   "source": [
    "### Exercises -- Creating lists and adding items to them\n",
    "\n",
    "(For this assignment, you'll need to structure your own answer notebook.  For each exercise, copy the heading `### Exercises - ...` into a new markdown cell in your answer notebook, and fill in the answers as appropriate.  Whenever the assignment asks you to run code in a cell \"below\", instead run it in your answer notebook.  Remember, the important thing is (1) for you to complete the exercises, and (2) for your instructor to see this by looking at your answer notebook.)\n",
    "\n",
    "1. Predict the output of the following blocks of code, then run the code in a cell below and determine if your prediction was correct.  If it wasn't correct, make sure to determine where you went wrong.\n",
    "    \n",
    "    **Block 1**\n",
    "    \n",
    "        [1, 2, 3] == [1, 2, 3]\n",
    "        \n",
    "    **Block 2**\n",
    "    \n",
    "        [1, 2, 3] == [1, 3, 2]\n",
    "        \n",
    "    **Block 3**\n",
    "    \n",
    "        list_1 = [5, 7, 10]\n",
    "        list_2 = [5, 7, 10, 11]\n",
    "        list_3 = list_2\n",
    "        list_3.append(11)\n",
    "        list_4 = [5, 7, 10, 11, 11]\n",
    "        list_1.append(11)\n",
    "        print(list_1 == list_3)\n",
    "        print(list_1 == list_2)\n",
    "        print(list_3 == list_4)\n",
    "    \n",
    "    **Block 4**\n",
    "    \n",
    "        empty_list = []\n",
    "        empty_list.append(13)\n",
    "        empty_list.append(7)\n",
    "        empty_list.append(271)\n",
    "        empty_list == [271, 7, 13]"
   ]
  },
  {
   "cell_type": "markdown",
   "metadata": {
    "id": "aTOGfAo8RxFT"
   },
   "source": [
    "### Lists can contain different types of objects\n",
    "\n",
    "An interesting attribute of lists that makes them quite versatile is that the objects in a list don't have to have the same type.  For example, you could append the list `[1, 2, 3]` to the end of itself by typing\n",
    "\n",
    "    my_list = [1, 2, 3]\n",
    "    my_list.append([1, 2, 3])\n",
    "    \n",
    "and now if you print `my_list` you will find that it is equal to\n",
    "\n",
    "    [1, 2, 3, [1, 2, 3]]\n",
    "    \n",
    "In other words, you are left with a list whose first three elements are numbers, and whose fourth element is a list.  We could go even further and add another type of object to a list.  Say we defined the following function that has one input and takes it to the power of $2.3$:\n",
    "\n",
    "    def my_func(x):\n",
    "        return x ** 2.3\n",
    "\n",
    "then we can append this function to the end of `my_list`\n",
    "\n",
    "    my_list.append(my_func)\n",
    "    \n",
    "and now `my_list` will be equal to\n",
    "\n",
    "    [1, 2, 3, [1, 2, 3], my_func]\n",
    "\n",
    "You are encouraged to check all of this for yourself in a coding cell below.\n",
    "\n",
    "### List elements can be called and their values can be reassigned\n",
    "\n",
    "After you create a list, you typically want to refer back to elements of that list.  Python **indexes** each element of the list to make this possible -- the number `0` is assigned to the first element of the list, the number `1` is assigned to the second element of the list, and so on.  This numbering of elements starting from `0` can sometimes be confusing, so:\n",
    "\n",
    "**CAUTION!!!** Python list elements are indexed starting from `0`!\n",
    "\n",
    "Say, for example, that we want to refer back to the third element of `my_list` which is the number `3`, then we can do this by typing\n",
    "\n",
    "    my_list[2]\n",
    "\n",
    "The object `my_list[2]` is like a variable whose value is assigned to be `3` -- you can for example type\n",
    "\n",
    "    my_list[2] ** 3\n",
    "    \n",
    "to take `my_list[2]` to the third power, and you'll get the number `27`.  We could also call the fifth element of the list, which is the function `my_func` by typing\n",
    "\n",
    "    my_list[4]\n",
    "    \n",
    "This object will work just like `my_func` would.  For example, you could type\n",
    "\n",
    "    my_list[4](3)\n",
    "    \n",
    "What do you think you'd get as the output in this case?\n",
    "\n",
    "Because lists are mutable, every element in a list can be reassigned to be a different object.  For example, suppose we want to create a list containing the first four positive perfect squares, but we make a mistake, and we instead define\n",
    "\n",
    "    perfect_squares = [1, 4, 9, 13]\n",
    "    \n",
    "The fourth element should be `16` which is `4` squared.  Instead of completely redefining the list, we can just change its fourth element to `16`:\n",
    "\n",
    "    perfect_squares[3] = 16.\n",
    "    \n",
    "Notice that since the indexing starts at `0`, changing the 4th element requires us to call the element indexed by the number `3` *not* the element indexed by the number `4`.  The result of this reassignment will be that `perfect_squares` will now be the list\n",
    "\n",
    "    [1, 4, 9, 16]\n",
    "    \n",
    "as you should check for yourself in a coding cell below!"
   ]
  },
  {
   "cell_type": "markdown",
   "metadata": {
    "id": "4c2zswixRxFZ"
   },
   "source": [
    "### Exercises - List elements can be called and their values can be reassigned\n",
    "\n",
    "1. In each of the following code blocks, a list called `test_list` is created and manipulated in a number of ways.  \n",
    "    - In each case, predict what the output would be if you were to print `test_list` after the entire code block is run, then \n",
    "    - run each code block in its own coding cell below, and check your prediction, and finally\n",
    "    - if your prediction was not correct, make sure you understand where you went wrong.\n",
    "    \n",
    "    **Block 1**\n",
    "    \n",
    "            test_list = []\n",
    "            test_list.append(3)\n",
    "            test_list.append(2)\n",
    "            test_list.append(5)\n",
    "            test_list[1] = 3\n",
    "            test_list[0] = 2\n",
    "            test_list.append(4)\n",
    "            test_list[3] = 5\n",
    "            test_list[2] = 4\n",
    "    \n",
    "    **Block 2**\n",
    "    \n",
    "            test_list = []\n",
    "            test_list.append([1,2])\n",
    "            test_list[0][1] = 3\n",
    "            test_list.append([1, 2])\n",
    "            test_list[1][0] = 257\n",
    "            test_list[0][0] = test_list[1][0]\n",
    "        \n",
    "    **Block 3**\n",
    "    \n",
    "            test_list = [[\"rhino\", \"cat\"], [\"elephant\", \"dog\"]]\n",
    "            test_list[0][1] = test_list[1][0]\n",
    "            test_list[1][1] = test_list[0][0]\n",
    "            test_list[1] = test_list[0]\n",
    "\n",
    "2. In each of the following code blocks, two lists are created and gives names `list_1` and `list_2`\n",
    "    - In each case, determine a sequence of steps (lines of python code) sufficient to turn `list_1` into `list_2`.\n",
    "    - Create a coding cell for each case, create `list_1`, perform those steps, and then print out the list to make sure your steps did what they were supposed to.\n",
    "    \n",
    "    **Block 1**\n",
    "    \n",
    "            list_1 = []\n",
    "            list_2 = [17, 29, 31]\n",
    "    \n",
    "    **Block 2**\n",
    "    \n",
    "            list_1 = [\"cat\", \"dog\", \"mouse\"]\n",
    "            list_2 = [\"mouse\", \"cat\", \"dog\"]\n",
    "            \n",
    "    **Block 3**\n",
    "    \n",
    "            list_1 = []\n",
    "            list_2 = [[\"cat\", \"dog\"], [\"elephant\", \"rhino\"]]\n",
    "    \n",
    "    **Block 4**\n",
    "    \n",
    "            list_1 = [[1, 2], [4, 5]]\n",
    "            list_2 = [[2, 1], [5, 4]]\n",
    "    \n",
    "    **Block 5**\n",
    "    \n",
    "            list_1 = [[1, 2], [4, 5]]\n",
    "            list_2 = [[3, 2, 1], [6, 5, 4]]"
   ]
  },
  {
   "cell_type": "markdown",
   "metadata": {
    "id": "vX9RUnS0RxFe"
   },
   "source": [
    "### Loops and list comprehensions can be used to systematically populate lists\n",
    "\n",
    "If you want to populate a list with a large number of objects, it's typically easiest to do so programmatically instead of manually inputting the list values.  The most straightforward way to do this is to use loops.  For example, suppose you want a list called `first_100` containing the first 100 non-negative integers, then you can type\n",
    "\n",
    "    first_100 = []\n",
    "    for n in range(100):\n",
    "        first_100.append(n)\n",
    "        \n",
    "In this code, an empty list is created on the first line, then the for loop is used to successively append the next integer to the end of the list.  If you now print `first_100`, you'll see that it contains the first 100 integers.  There is a shorter, more \"pythonic\" way to do this using something called a **list comprehension** which allows one to populate a list without using a loop in a single line:\n",
    "\n",
    "    first_100 = [n for n in range(100)]\n",
    "    \n",
    "As another example, suppose we wanted to populate a list with the first 100 non-negative *even* integers, then we could use a for loop to do this:\n",
    "\n",
    "    first_100_even = []\n",
    "    for n in range(100):\n",
    "        first_100_even.append(2 * n)\n",
    "        \n",
    "or we could use a list comprehension to do the same thing in one line:\n",
    "\n",
    "    first_100_even = [2 * n for n in range(100)]"
   ]
  },
  {
   "cell_type": "markdown",
   "metadata": {
    "id": "kPPsv6U6RxFk"
   },
   "source": [
    "### Exercises - systematic list creation and manipulation\n",
    "\n",
    "Complete each of the following exercises in its own coding cell below.\n",
    "\n",
    "1. Create a list called `first_100_odd` containing the first 100 positive integers that are odd.  Print out the list to make sure you created the right list.\n",
    "2. Create a list called `first_100_perfect` containing the first 100 positive integers that are perfect squares.  Print out the list to make sure you created the right list.\n",
    "3. Create a list `divisible_357` containing the first 100 positive integers that are divisible by both $3$, $5$, and $7$.  Print out the list to make sure you created the right list.\n",
    "4. Define a function called `fib_list` that takes in a positive integer $n$ as its only input and outputs a list containing the first $n$ [Fibonnaci numbers](https://en.wikipedia.org/wiki/Fibonacci_number) in the correct order.  Test this function for a few reasonably small values of $n$ to make sure that the output is correct.\n",
    "5. Suppose that a person is running along the ground in the $x$-direction at a velocity of $v_x = 5\\,\\mathrm m/\\mathrm s$.  Create an array that contains the position of the runner (in meters) at $0.3$-second intervals for a total of 20 seconds."
   ]
  },
  {
   "cell_type": "markdown",
   "metadata": {
    "id": "1JFNDpwHRxFq"
   },
   "source": [
    "## Numpy, Scipy, and Matplotlib - the holy trinity of pythonic scientific computation\n",
    "\n",
    "When you're trying to solve a scientific computational task, ultimately you want a program that\n",
    "\n",
    "1. gets the job done,\n",
    "2. doesn't have errors,\n",
    "3. doesn't take too long to run,\n",
    "4. other people can read and use, and\n",
    "5. is modular, elegant, perhaps even aesthetically pleasing.\n",
    "\n",
    "Until now, we have been using aspects of Python (numbers, functions, lists, etc.) that are native to the standard Python distribution.  In principle, you could use native Python on its own to accomplish objectives 1, 2, and 4, but for number 3, it's indespensible to have a specialized package that extends the functionality of the standard Python distribution.  There are at least two reasons for this:\n",
    "\n",
    "1. Python is an interpreted language (step-by-step translation to machine code during execution) as opposed to a compiled language (full translation into machine code before execution) like C, so programs run more slowly.\n",
    "2. People spend lifetimes developing specialized algorithms for accomplishing certain computational tasks, and it would be unfortunate not to take advantage of their expertise!  Wouldn't it?\n",
    "\n",
    "It's worth noting that using a specialized numerical or scientific package is not just about speed.  Every one of points 1-5 above can be enhanced through the use of such a package for reasons we'll get to soon.  By far the most widely-used numerical and scientific computing packages for Python are called **numpy** and **scipy**.  Treat them well, and they will be there for you when you need a hand.\n",
    "\n",
    "Both `numpy` and `scipy` are large, feature-rich packages with significantly more functionality than we will cover in this tutorial, and the following are some great resources that will allow you to dig a lot deeper on your own:\n",
    "\n",
    "- **Scipy Lecture Notes** http://www.scipy-lectures.org\n",
    "- **Scipy Video Tutorial Playlists** like this from SciPy2016 https://www.youtube.com/playlist?list=PLYx7XA2nY5Gf37zYZMw6OqGFRPjB1jCy6\n",
    "- **Numpy and Scipy Documentation** https://docs.scipy.org/doc/\n",
    "\n",
    "### Importing numpy and scipy\n",
    "\n",
    "In order to use packages like `numpy` and `scipy` whose functionality is not built into Python, you first need to import them.  In order to import any such package in Python, not just numpy or scipy, one simply needs to type `import` followed by the name of the package:\n",
    "\n",
    "    import package_name\n",
    "    \n",
    "For example, with `numpy` and `scipy` we would type\n",
    "\n",
    "    import numpy\n",
    "    import scipy\n",
    "    \n",
    "Although this is the simplest way to import such packages, doing so results in a certain syntactical state of affairs that some programmers find irritating; whenever you want to use a function from `numpy` or `scipy`, you'll now have to prepend `numpy.` to the name of any such function.  For example, if you want to use the sine function built into numpy to compute $\\sin(1)$, you'll have to type\n",
    "\n",
    "    numpy.sin(1)\n",
    "    \n",
    "If you're doing a lot of such function calling in the course of your code, typing out `numpy` every time can get annoying, so some coders will import `numpy` and `scipy` with abbreviated names.  In general, for any package, importing with an abbreviated name is done as follows:\n",
    "\n",
    "    import package_name as abbreviated_name\n",
    "    \n",
    "For example, the standard abbreviations used for `numpy` and `scipy` are `np` and `sp` respectively, so to import them with these abbreviations, we would type\n",
    "\n",
    "    import numpy as np\n",
    "    import scipy as sp\n",
    "    \n",
    "Now, if you want to compute $\\sin(1)$, you can type\n",
    "\n",
    "    np.sin(1)\n",
    "    \n",
    "It's typically a good idea to import packages you want to use at the very beginning of your code. For Jupyter notebooks, this means including these import statements in the first cell of the notebook. After importing these once, their functionality will be available forever after in your current python session -- no need to import them ever again!\n",
    "\n",
    "I'm going to import these packages in a cell below so that we can use them from now on:"
   ]
  },
  {
   "cell_type": "code",
   "execution_count": null,
   "metadata": {
    "id": "YCMXRzACRxFs"
   },
   "outputs": [],
   "source": [
    "import numpy as np\n",
    "import scipy as sp"
   ]
  },
  {
   "cell_type": "markdown",
   "metadata": {
    "id": "qX1fmm1FRxF0"
   },
   "source": [
    "### Exercises  - Imports\n",
    "\n",
    "1. Create a coding cell at the very top of this notebook, type the following lines, and press \n",
    "\n",
    "        import numpy as np\n",
    "        import scipy as sp\n",
    "   \n",
    "    Now type out `np.` and then press <kbd>Tab</kbd> to use tab completion -- you should drop down menu containing a list of every available numpy function.  Now type the letters `si` as well, and the list should shorten to only those numpy functions beginning with the letters `si`.  Within this list, use the down arrow key to navigate to `sin` and press <kbd>Enter</kbd>.  Complete the line of code so that it reads\n",
    "   \n",
    "        np.sin(1)\n",
    "       \n",
    "    then evaluate the cell, and you should see an appromation to the value of $\\sin(1)$ as the output.\n",
    "2. In addition to functions, numpy contains commonly used numbers such as $\\pi$.  Here's how you type out the numpy version of $\\pi$:\n",
    "        \n",
    "        np.pi\n",
    "        \n",
    "    In a coding cell below, use a for loop to create a list called `some_sines` containing the numbers $\\sin(n\\pi/10)$ for $n=1,2,\\dots, 20$ then print out the list to make sure it contains the values you would expect.\n",
    "3. Repeat the last exercise, but use a list comprehension to construct `some_sines`."
   ]
  },
  {
   "cell_type": "markdown",
   "metadata": {
    "id": "hzcbBX4oRxGr"
   },
   "source": [
    "### Arrays - kind of like numpy's version of lists\n",
    "\n",
    "The basic philosphy of `numpy` as a whole centers on **array-oriented programming**.  Python lists are a wonderful, versatile data container, but for scientific computation, it's often better to use a data container built into numpy called the [**array**](https://docs.scipy.org/doc/numpy/reference/generated/numpy.ndarray.html#numpy.ndarray), also referred to as the \"numpy array.\"  An array is a lot like either a list, or a list of lists, or a list of lists of lists, except it's designed so that certain kinds of commonly-performed computations are very efficient.  The array equivalent of a list would be called a one-dimensional array, the array equivalent of a list of lists would be called a two-dimensional array, and so on.\n",
    "\n",
    "A one-dimensional array is sometimes also called a **vector** and a two-dimensional array is sometimes also called a **matrix**, but if you've taken linear algebra, then you know that the term \"vector\" refers in mathematics to a very general kind of mathematical object that can include arrays of any dimension, so take all of this terminology with a grain of salt.\n",
    "\n",
    "Why use the array-oriented programming philosophy?\n",
    "\n",
    "Among the many [reasons why one might elect to use arrays instead of lists](http://stackoverflow.com/questions/993984/why-numpy-instead-of-python-lists) are the following:\n",
    "\n",
    "1. `numpy` arrays use less memory than Python lists.\n",
    "2. `numpy` has many functions designed specifically to perform powerful, efficient operations on arrays but not on lists.\n",
    "\n",
    "The first consideration might be significant if you're doing high-performance computing where memory management is important, but for most reasonably simple scientific computation applications, where memory management isn't such a big concern, the second consideration is still a great reason to elect to use arrays instead of lists.  This should become more clear as we further discuss what can be accomplished with arrays.\n",
    "\n",
    "Arrays are not precisely the same as lists.  From a practical perspective, the main difference is that **all elements of an array must have the same type**.  You can't, for example, have an array containing both ints and floats.  This is in stark contrast to lists in which the type of every element can be different.\n",
    "\n",
    "### Creating arrays\n",
    "\n",
    "There are at least two straightforward ways to create arrays and fill them with data:\n",
    "\n",
    "1. Convert a list into an array\n",
    "2. Use a built-in `numpy` function to create the desired array\n",
    "\n",
    "For example, suppose that I want to create an array containing the first 10 positive integers, then I could first create a list containing these numbers (using either a loop or a list comprehension)\n",
    "\n",
    "    integer_list = [n for n in range(1, 11)]\n",
    "    \n",
    "and then I could use the numpy function `array` which can convert a list containing elements of the same type into an array:\n",
    "\n",
    "    integer_array = np.array(integer_list)\n",
    "    \n",
    "A shorter, faster way of creating this array using only `numpy` commands is to use the `arange` function:\n",
    "\n",
    "    another_integer_array = np.arange(1,11)\n",
    "    \n",
    "The [basic syntax for the `arange` function](https://numpy.org/doc/stable/reference/generated/numpy.arange.html) (whose name is short for \"array range\") is\n",
    "    \n",
    "    np.arange(start, stop, step)\n",
    "    \n",
    "where `start` is the first number is the array, `stop` is the last number (not inclusive) and `step` is the distance between successive numbers in the array and is set to 1 by default.  The fact that the range doesn't include the last number means for example that if you want the last number to be 10, and the step is set to the default of 1, then you need to set `stop` to be 11.\n",
    "\n",
    "The `arange` function was used above to create an example of a \"one-dimensional\" array.  Higher-dimensional arrays are the array equivalent of nested lists, and can also be created with the `array` function.  For example, suppose that we want to convert the the following list of lists into an array:\n",
    "\n",
    "    [[1, 2, 3], [4, 5, 6]]\n",
    "    \n",
    "Then we would type:\n",
    "\n",
    "    np.array([[1, 2, 3], [4, 5, 6]])\n",
    "    \n",
    "This would generate a \"two-dimensional\" array with **shape** `(2, 3)` meaning that the outermost list contains two lists, and each of those sublists contains three elements.  We could also create a three-dimensional array by nesting the lists further:\n",
    "\n",
    "    np.array([[[1, 2], [3, 4], [5, 6]], [[1, 2], [3, 4], [5, 6]]])\n",
    "\n",
    "This array has shape `(2, 3, 2)`.  The shape of any array can be check with the numpy function `shape`, so if I were to run the following line of code:\n",
    "\n",
    "    np.shape(np.array([[1, 2, 3], [4, 5, 6]]))\n",
    "    \n",
    "Then I would get the output\n",
    "\n",
    "    (2, 3)\n",
    "\n",
    "There are loads of functions like `arange` built into numpy for efficiently creating many different kinds of arrays or different dimensions.  See here for an exhaustive list:\n",
    "\n",
    "[Numpy array creation routines](https://docs.scipy.org/doc/numpy/reference/routines.array-creation.html)\n",
    "\n",
    "Some of the most often used are:\n",
    "\n",
    "- [`array`](https://docs.scipy.org/doc/numpy/reference/generated/numpy.array.html#numpy.array) create arrays from other objects like lists\n",
    "- [`arange`](https://docs.scipy.org/doc/numpy/reference/generated/numpy.arange.html#numpy.arange) create arrays of evenly-spaced numbers\n",
    "- [`linspace`](https://docs.scipy.org/doc/numpy/reference/generated/numpy.linspace.html#numpy.linspace) create arrays of evenly-spaced numbers, but slightly different from `arange`\n",
    "- [`logspace`](https://docs.scipy.org/doc/numpy/reference/generated/numpy.logspace.html#numpy.logspace) create arrays of logarithmically-spaced numbers\n",
    "- [`zeros`](https://docs.scipy.org/doc/numpy/reference/generated/numpy.zeros.html#numpy.zeros) create arrays filled with zeros\n",
    "- [`ones`](https://docs.scipy.org/doc/numpy/reference/generated/numpy.ones.html#numpy.ones) create arrays filled with ones\n",
    "\n",
    "### Manipulating arrays\n",
    "\n",
    "Once you have created one or more arrays, numpy provides a poweful framework for manipulating these arrays by applying operations to one or more of them.  \n",
    "\n",
    "#### Applying functions to arrays\n",
    "\n",
    "The simplest manifestation of this framework is that numpy functions like its versions of sine, cosine, and exp called `sin`, `cos`, and `exp` can be applied to a whole array, and the result will be the an array whose elements are the result of applying that function to each element of the array individually!  \n",
    "\n",
    "For example, if we take the array `integer_array` that we created above which was given by\n",
    "\n",
    "    [1 2 3 4 5 6 7 8 9 10]\n",
    "\n",
    "and if we type\n",
    "\n",
    "    np.sin(integer_array)\n",
    "    \n",
    "then the output will be an array whose elements are float approximations of $\\sin(1), \\sin(2), \\dots, \\sin(10)$.  Similarly for `cos` and `exp`.  This functionality in numpy is a reflection of a certain powerful kind of function called a [**universal function**](https://docs.scipy.org/doc/numpy/reference/ufuncs.html) (or **ufunc** for short) which is a function that operates on numpy arrays element-by-element fashion -- the output of the function evaluated on the array is an array in which the function has been applied to each element of the array.  All of the standard functions in numpy (like trigonometric, exponential, and logarithmic) functions are ufuncs by default.\n",
    "\n",
    "#### Applying numerical operations involving a number and an array\n",
    "\n",
    "It was noted above that there is a special `numpy` function called `ones` that creates an array of a specified size with the number 1 in every entry, but what if you want to create an array filled with 13's instead of 1's?  There's not dedicated numpy function called `thirteens` to do this, but there is still a very simple, generalizable way to do it: first use the function `ones` to create an array of the desired size filled with 1's, then multiple every element of the array by the number 13.  You might be skeptical; \"wouldn't we have to use a loop to go through and multiply each element of the array by 13?  Doesn't this defeat the purpose of trying to avoid using loops and instead using native array operations?\"  No!  There is a much simpler way in numpy.  First we create the array having all ones (for simplicity we create an array with 10 elements having all ones)\n",
    "\n",
    "    lots_of_ones = np.ones(10)\n",
    "    \n",
    "Then we just multiply that array by the number 5, and numpy will automatically multiply every element of the array by that number!\n",
    "\n",
    "    lots_of_thirteens = 13 * lots_of_ones\n",
    "    \n",
    "Note that this wouldn't have worked if we had created a *list* of ones -- multiplication by numbers is not an operation that is defined for lists in standard python syntax, but it is defined for arrays, and it is defined so that it occurs element-by-element just like with ufuncs.\n",
    "\n",
    "The same is true for other arithmetical operations: any arithmetical operation between a number and an array will occur element-by-element.  It's also true for the power operation.  If an array is taken to a certain power, then every element of that array will be taken to that power.\n",
    "\n",
    "#### Applying operations to more than one array\n",
    "\n",
    "Another way of manipulating arrays in `numpy` is to operate on more than one array.  You can, for example, apply the standard arithmetic operations and power operation to arrays just as you would with integers, floats, and complexes.  For example, suppose you create the following arrays:\n",
    "\n",
    "    A = np.array([1, 2, 3])\n",
    "    B = np.array([4, 5, 6])\n",
    "    \n",
    "Then I you add, subtract, multiply, and divide these two arrays:\n",
    "\n",
    "    A + B\n",
    "    A - B\n",
    "    A * B\n",
    "    A / B\n",
    "\n",
    "Some Caveats:\n",
    "\n",
    "- If an array contains a zero, you can't divide by it\n",
    "- Arrays have to have the same [shape](https://docs.scipy.org/doc/numpy/reference/generated/numpy.ndarray.shape.html) -- we discuss array shape a bit more below.\n",
    "- Arrays having different numerical types will result in an array with the more \"general\" type.  E.g. if one array contains floats and the other contains ints, then adding them will result in an array with floats.\n",
    "\n",
    "#### Built-in NumPy methods for manipulating arrays\n",
    "\n",
    "There are quite a few ways to manipulate arrays with built-in NumPy functions as well.  See the following link for an exhaustive list:\n",
    "\n",
    "[Array Manipulation Routines](https://docs.scipy.org/doc/numpy/reference/routines.array-manipulation.html)"
   ]
  },
  {
   "cell_type": "markdown",
   "metadata": {
    "id": "0gvaRBU6RxG0"
   },
   "source": [
    "### Exercises - NumPy arrays\n",
    "\n",
    "1. Predict what you think the output of the following code would be, then copy and paste it into a new coding cell below, and check to see if your predictions came true:\n",
    "\n",
    "        integer_list = [n for n in range(1, 11)]\n",
    "        integer_array = np.array(integer_list)\n",
    "        another_integer_array = np.arange(1,11)\n",
    "\n",
    "        print(integer_list)\n",
    "        print(integer_array)\n",
    "        print(another_integer_array)\n",
    "\n",
    "        print(type(integer_list))\n",
    "        print(type(integer_array))\n",
    "        print(type(another_integer_array))\n",
    "        \n",
    "    Do you notice how one can distinguish between a list and an array when they're printed out?  What is the \"type\" of an array?\n",
    "2. Once you have done the last exercise, type out the following code and run it in a new cell.  Make sure the output aligns with what you expect it would be:\n",
    "\n",
    "        np.sin(integer_array)\n",
    "        np.cos(integer_array)\n",
    "        np.exp(integer_array)\n",
    "        \n",
    "3. In each of the code blocks below, an array called `test_array` is created and manipulated.  Predict what `test_array` will be at the end of the code block, then run each code block in its own coding cell to test your prediction.  If you prediction does not agree with the result, determine where you made your error.\n",
    "\n",
    "    **Block 1**\n",
    "    \n",
    "        test_array = np.ones(11)\n",
    "        array_1 = 3 * test_array\n",
    "        array_2 = 5 * test_array\n",
    "        test_array = array_1 + array_2\n",
    "        test_array = test_array / 4\n",
    "    \n",
    "    **Block 2**\n",
    "        \n",
    "        hello = np.zeros(9)\n",
    "        goodbye = np.arange(1, 19, 2)\n",
    "        hello = 3 * (hello + 1)\n",
    "        test_array = (hello + goodbye) ** 2\n",
    "    \n",
    "    **Block 3**\n",
    "    \n",
    "        luke = np.ones(7)\n",
    "        leah = 2 * luke\n",
    "        han = 3 * luke\n",
    "        darth = 4 * luke\n",
    "        jabba = 5 * luke\n",
    "        (luke + leah) * han * (darth - jabba)\n",
    "    \n",
    "    **Block 4**\n",
    "    \n",
    "        charm = np.pi * np.ones(20) / 2\n",
    "        bottom = np.sin(charm)\n",
    "        up = np.cos(charm)\n",
    "        test_array = bottom * up\n",
    "    \n",
    "    **Block 5**\n",
    "    \n",
    "        test_array = np.sin(np.pi * np.array([n ** 2 for n in range(5)]) / 4)\n",
    "        heisenberg = test_array ** 2\n",
    "        schrodinger = test_array ** 3\n",
    "        pauli = test_array\n",
    "        test_array = (heisenberg + schrodinger + pauli) ** 2"
   ]
  },
  {
   "cell_type": "markdown",
   "metadata": {
    "id": "pE0OjlmGRxG1"
   },
   "source": [
    "### Array indexing and reassigning values\n",
    "\n",
    "NumPy arrays are indexed in a way similar to how python lists are indexed.  Most importantly, indexing in each dimension starts at zero.  Recall, for example, that if I have the following nested list:\n",
    "\n",
    "    nested_list = [[1, 2, 3], [4, 5, 6]]\n",
    "    \n",
    "Then I would call the element with value `5` as follows:\n",
    "\n",
    "    nested_list[1][1]\n",
    "\n",
    "The first index 1 specifies that the `5` is in the second sublist, and the second index 1 specifies that it's the second element in that sublist.  Essentially the same thing would be done with arrays, except the syntax is different.  The array version of `nested_list` could be created as follows:\n",
    "\n",
    "    two_dim_array = np.array(nested_list)\n",
    "    \n",
    "and to call the element with value `5`, we would type out\n",
    "\n",
    "    two_dim_array[1, 1]\n",
    "\n",
    "Moreover, you can reassign an element of an array in the same way you reassign the value of a variable or an element of a list.  If we wanted to change the `5` in the array `two_dim_array` to a `13`, we would do\n",
    "\n",
    "    two_dim_array[1, 1] = 13\n",
    "    \n",
    "### Array slicing and fancy indexing\n",
    "\n",
    "There are a lot of very powerful indexing tricks you can use to cleverly refer to elements of arrays.  For the interested user, a nice quick start can be found in the section entitled \"Fancy indexing and index tricks\" in the following quickstart guide:\n",
    "\n",
    "[NumPy Quickstart Tutorial](https://numpy.org/doc/stable/user/quickstart.html)\n",
    "\n",
    "or in the [SciPy lecture notes](http://www.scipy-lectures.org/intro/numpy/index.html) in sections 1.4.1.5 and 1.4.1.7\n"
   ]
  },
  {
   "cell_type": "markdown",
   "metadata": {
    "id": "4r-Fi9RIRxG2"
   },
   "source": [
    "### Exercises - array creation and manipulation\n",
    "\n",
    "1. It was mentioned above that importing numpy with the abbreviation `np` instead of using a method of importing that allows one to avoid the `numpy` or `np` prefix is good practice because then when one calls a NumPy function, it's clear that the NumPy implementation of that function is being used instead of some other implementation.  To see an explicit example of this, consider the sine function.  Aside from NumPy, there is another commonly-used implementation of sine in the `math` package which can be imported in the standard way\n",
    "\n",
    "        import math\n",
    "        \n",
    "    Then, as with any function contained within a package, we can use the sine function from the math package with the \"dot\" syntax `math.sin`.\n",
    "    - Create a NumPy array with 10 entries whose elements are $n\\pi/2$ for $n = 0,1, \\dots, 9$.\n",
    "    - Apply the NumPy sine function to this array, and make sure the result is what you'd expect.\n",
    "    - Apply the math sine function to this array.  What happened and why?\n",
    "    - You should have found that the math sine function did not operate in the same way as the NumPy sine function.\n",
    "\n",
    "For each of these exercises, create the specified list/array in as many of the following three ways as you can:\n",
    "\n",
    "- Use a loop to create a list with the desired elements and then convert it to an array.\n",
    "- Use a list comprehention to create a list with the desired elements and then convert it to an array.\n",
    "- Use only numpy commands to direction create an array with the desired elements.\n",
    "\n",
    "\n",
    "\n",
    "1. Create an array of shape `(1, 50)` of zeros (a 50-dimensional zero vector) and call it `zero`.  Use NumPy's `shape` function to check the shape of the array.\n",
    "2. Create an array of shape `(1, 25)` of all zeros except make the 7th element equal to 3. Use NumPy's `shape` function to check the shape of the array.\n",
    "3. Suppose that a person is running along the ground in the $x$-direction at a velocity of $v_x = 5\\,\\mathrm m/\\mathrm s$.  Create an array that contains the position of the runner at $0.3$-second intervals for a total of 20 seconds."
   ]
  },
  {
   "cell_type": "markdown",
   "metadata": {
    "id": "DGePX7XBRxG3"
   },
   "source": [
    "### More on why we use arrays to avoid loops (aka vectorization)\n",
    "\n",
    "There are many great reasons to use NumPy and SciPy.  One of them is to make your Python code run fast by eliminating loops which run slowly in Python.  If you were to compare a simple program written in Python and using lots of loops to an equivalent program written in some [lower-level language](https://en.wikipedia.org/wiki/Low-level_programming_language) like FORTRAN or C++, then you should find that the program written in the lower-level languages would be much faster because [loops in Python are slow](http://stackoverflow.com/questions/8097408/why-python-is-so-slow-for-a-simple-for-loop).\n",
    "\n",
    "NumPy and SciPy allow one to get around this by converting programs that make heavy use of loops into equivalent programs that use Python arrays.  This speeds up the program basically because NumPy and SciPy routines are usually themselves written in lower-level languages.\n",
    "\n",
    "The process of converting code from using loops and other sometimes cumbersome constructs into equivalent code that uses arrays is called **vectorization** or **array-oriented programming** as we mentioned before.\n",
    "\n",
    "To see what this means concretely, in the next section we see a simple example of vectorization and learn a tool for measuring the performance boost we get from vectorization.\n",
    "\n",
    "### Measuring vectorized (or any other) short program performance with the `%%timeit` cell magic\n",
    "\n",
    "Here we'll use a feature of Jupyter Notebooks known as a \"cell magics\" (see the [offical documentation](https://ipython.readthedocs.io/en/stable/interactive/magics.html#) for more details). The `%%` indicates a cell magic command.\n",
    "\n",
    "We claimed above that converting loops to vectorized operations should generally cause your programs to run faster, but how can you tell?  For simple programs, we can use the `%%timeit` cell magic in a coding cell to determine how long a certain code snippet takes to run.  Instead of describing the command, let's explore how to works through an example.\n",
    "\n",
    "Run the following cell:"
   ]
  },
  {
   "cell_type": "code",
   "execution_count": null,
   "metadata": {
    "id": "7BgLXFlgRxG4",
    "outputId": "c8f3d651-f3a4-4da2-9fb4-a46dec2079cf"
   },
   "outputs": [
    {
     "name": "stdout",
     "output_type": "stream",
     "text": [
      "4.69 s ± 97.5 ms per loop (mean ± std. dev. of 7 runs, 1 loop each)\n"
     ]
    }
   ],
   "source": [
    "%%timeit\n",
    "\n",
    "list_of_squares = []       \n",
    "for i in range(10000000):\n",
    "    list_of_squares.append(i ** 2)"
   ]
  },
  {
   "cell_type": "markdown",
   "metadata": {
    "id": "c8MYdyKzRxG7"
   },
   "source": [
    "The output text tells us that the cell has been run three times, hence the \"best of 3\", and in the fastest  case, the cell ran in 3.52 seconds (on my machine -- on your machine this number will likely be different).  Before we test this against a vectorized version of the program, let's implement the same thing using a list comprehension and see if it makes a difference.\n",
    "\n",
    "Run the following cell:"
   ]
  },
  {
   "cell_type": "code",
   "execution_count": null,
   "metadata": {
    "id": "m6fzRx7GRxG9",
    "outputId": "dd00e3fb-ac2e-41c6-bb24-b2d004f604a5"
   },
   "outputs": [
    {
     "name": "stdout",
     "output_type": "stream",
     "text": [
      "4.23 s ± 37 ms per loop (mean ± std. dev. of 7 runs, 1 loop each)\n"
     ]
    }
   ],
   "source": [
    "%%timeit\n",
    "\n",
    "another_list_of_squares = [n ** 2 for n in range(10000000)]"
   ]
  },
  {
   "cell_type": "markdown",
   "metadata": {
    "id": "XcNTPdlLRxHA"
   },
   "source": [
    "On my machine, the program now ran in 2.93 seconds instead of 3.52 seconds an improvement of about 17%!  Now let's use numpy arrays to do the equivalent thing instead of using lists\n",
    "\n",
    "Run the following cell:"
   ]
  },
  {
   "cell_type": "code",
   "execution_count": null,
   "metadata": {
    "id": "KKSnJ1oARxHB",
    "outputId": "967495e7-5e89-4ea5-92ce-9af06b926e07"
   },
   "outputs": [
    {
     "name": "stdout",
     "output_type": "stream",
     "text": [
      "40.6 ms ± 260 µs per loop (mean ± std. dev. of 7 runs, 10 loops each)\n"
     ]
    }
   ],
   "source": [
    "%%timeit\n",
    "\n",
    "numpy_list_of_squares = np.arange(10000000) ** 2"
   ]
  },
  {
   "cell_type": "markdown",
   "metadata": {
    "id": "QtSvdAOsRxHI"
   },
   "source": [
    "Holy Moly!  On my machine, this version of the code ran in 55.8 *milli*seconds which amounts to a speed imporovement of more than 98%.  In other words, the code was over 50 times as fast.  Behold the awesome power of vectorization, but also notice how compact and readable the vectorized code is!\n",
    "\n",
    "When you write your own short programs, you're encouraged to implement programs in more than one way and to use `%%timeit` to get a rough idea of which implementation runs faster. "
   ]
  },
  {
   "cell_type": "markdown",
   "metadata": {
    "id": "bTEALFODRxHK"
   },
   "source": [
    "### Learn some SciPy!\n",
    "\n",
    "We've focused entirely on NumPy thus far when discussing array-oriented programming, and we've found that NumPy can be used to do some great things.  SciPy further (and quite signficaintly) adds to the scientific computing capacities of NumPy.  For the interested reader we recommend the following tutorial:\n",
    "\n",
    "[SciPy tutorial](https://docs.scipy.org/doc/scipy/reference/tutorial/index.html)\n",
    "\n",
    "or any of the resources on this page:\n",
    "\n",
    "[Getting started with SciPy](https://www.scipy.org/getting-started.html)\n",
    "\n",
    "We'll introduce other features of SciPy as needed in subsequent course assignments."
   ]
  },
  {
   "cell_type": "markdown",
   "metadata": {
    "id": "r2Q-GmmIRxHK"
   },
   "source": [
    "## Matplotlib and pyplot - plotting with python\n",
    "\n",
    "In this section, there are a number of un-evaluated coding cells that serve as examples.  Be sure to evaluate each of these cells when you come to it.  \n",
    "\n",
    "There is more than one way to plot a function in python, but the most common way is to use a powerful plotting library known as [matplotlib](http://matplotlib.org/).  We will only use some basic plotting functionality of matplotlib here.  We will only need a package called `pyplot` in matplotlib to do this.  \n",
    "\n",
    "For more on matplotlib, the following section of the SciPy tutorial is highly recommended:\n",
    "\n",
    "[SciPy Lecture Notes - Matplotlib](http://www.scipy-lectures.org/intro/matplotlib/index.html#pyplot)\n",
    "\n",
    "We can access pyplot by importing it in the same way we import any other package"
   ]
  },
  {
   "cell_type": "code",
   "execution_count": null,
   "metadata": {
    "id": "snfGa_TPRxHL"
   },
   "outputs": [],
   "source": [
    "import matplotlib.pyplot as plt\n",
    "\n",
    "%matplotlib inline"
   ]
  },
  {
   "cell_type": "markdown",
   "metadata": {
    "id": "_KJ-gOmoRxHS",
    "tags": []
   },
   "source": [
    "The first command imports `pyplot` from `matplotlib` with the abbreviation `plt`, and the second command is a magic command that tells Jupyter to generate plots inside the notebook cells themselves.  You may wish put this command in a cell near the top of each notebook you're working in where you need to plot.  That way, you can run that cell in the beginning, and pyplot will be available forever after when you're coding.  Note that if you're coding in a python file instead of using Jupyter, you'll need to type the line \n",
    "\n",
    "    plt.show()\n",
    "    \n",
    "after your plotting code so that the plot will display.\n",
    "\n",
    "The most basic thing we can do with pyplot is to call the `plot` method in this package which takes as inputs two lists: one of $x$-values and another of corresponding $y$-values, and pyplot will then create a plot in which all corresponding $x$-$y$ pairs are connected by straight line segments."
   ]
  },
  {
   "cell_type": "code",
   "execution_count": null,
   "metadata": {
    "colab": {
     "base_uri": "https://localhost:8080/",
     "height": 282
    },
    "executionInfo": {
     "elapsed": 697,
     "status": "ok",
     "timestamp": 1610741752276,
     "user": {
      "displayName": "Paul Hess",
      "photoUrl": "https://lh3.googleusercontent.com/a-/AOh14GiQ2h9xlppvZmp72iR2LWjtYZcFQPEcw-G_5m4e=s64",
      "userId": "17171507416725942150"
     },
     "user_tz": 300
    },
    "id": "r0u0STabRxHT",
    "outputId": "8888d8b6-33d4-4d20-884f-1685062c3735"
   },
   "outputs": [
    {
     "data": {
      "text/plain": [
       "[<matplotlib.lines.Line2D at 0x7f0da0ffd7b8>]"
      ]
     },
     "execution_count": 3,
     "metadata": {
      "tags": []
     },
     "output_type": "execute_result"
    },
    {
     "data": {
      "image/png": "[encoded data removed]",
      "text/plain": [
       "<Figure size 432x288 with 1 Axes>"
      ]
     },
     "metadata": {
      "needs_background": "light",
      "tags": []
     },
     "output_type": "display_data"
    }
   ],
   "source": [
    "x_values = [1, 2, 3, 4]\n",
    "y_values = [2, 4, 6, 8]\n",
    "\n",
    "plt.plot(x_values, y_values)"
   ]
  },
  {
   "cell_type": "markdown",
   "metadata": {
    "id": "p0Be4RswRxHW"
   },
   "source": [
    "Or if we wanted to plot the squaring function $f(x) = x^2$ for 100 equally-spaced $x$-values between 0 and 1, we could do this"
   ]
  },
  {
   "cell_type": "code",
   "execution_count": 1,
   "metadata": {
    "id": "mq-8Kk3yRxHX"
   },
   "outputs": [
    {
     "ename": "NameError",
     "evalue": "name 'np' is not defined",
     "output_type": "error",
     "traceback": [
      "\u001b[0;31m---------------------------------------------------------------------------\u001b[0m",
      "\u001b[0;31mNameError\u001b[0m                                 Traceback (most recent call last)",
      "\u001b[0;32m<ipython-input-1-0d4189ef56d0>\u001b[0m in \u001b[0;36m<module>\u001b[0;34m\u001b[0m\n\u001b[1;32m      2\u001b[0m     \u001b[0;32mreturn\u001b[0m \u001b[0mx\u001b[0m \u001b[0;34m**\u001b[0m \u001b[0;36m2\u001b[0m\u001b[0;34m\u001b[0m\u001b[0;34m\u001b[0m\u001b[0m\n\u001b[1;32m      3\u001b[0m \u001b[0;34m\u001b[0m\u001b[0m\n\u001b[0;32m----> 4\u001b[0;31m \u001b[0mx_values\u001b[0m \u001b[0;34m=\u001b[0m \u001b[0mnp\u001b[0m\u001b[0;34m.\u001b[0m\u001b[0mlinspace\u001b[0m\u001b[0;34m(\u001b[0m\u001b[0;36m0\u001b[0m\u001b[0;34m,\u001b[0m \u001b[0;36m1\u001b[0m\u001b[0;34m,\u001b[0m \u001b[0;36m100\u001b[0m\u001b[0;34m)\u001b[0m\u001b[0;34m\u001b[0m\u001b[0;34m\u001b[0m\u001b[0m\n\u001b[0m\u001b[1;32m      5\u001b[0m \u001b[0my_values\u001b[0m \u001b[0;34m=\u001b[0m \u001b[0mf\u001b[0m\u001b[0;34m(\u001b[0m\u001b[0mx_values\u001b[0m\u001b[0;34m)\u001b[0m\u001b[0;34m\u001b[0m\u001b[0;34m\u001b[0m\u001b[0m\n\u001b[1;32m      6\u001b[0m \u001b[0;34m\u001b[0m\u001b[0m\n",
      "\u001b[0;31mNameError\u001b[0m: name 'np' is not defined"
     ]
    }
   ],
   "source": [
    "import numpy as np\n",
    "import matplotlib.pyplot as plt\n",
    "\n",
    "def f(x):\n",
    "    return x ** 2\n",
    "\n",
    "x_values = np.linspace(0, 1, 100)\n",
    "y_values = f(x_values)\n",
    "\n",
    "plt.plot(x_values, y_values)"
   ]
  },
  {
   "cell_type": "markdown",
   "metadata": {
    "id": "gBNbnByIRxHb"
   },
   "source": [
    "There are an enormous number of plotting options you can use to make your plots pretty (matplotlib is a publication-grade library), but a couple that you're likely gonna need to use often are [changing the color and linestyle](https://matplotlib.org/2.1.1/api/_as_gen/matplotlib.pyplot.plot.html) of your plots, which you can do as follows:"
   ]
  },
  {
   "cell_type": "code",
   "execution_count": null,
   "metadata": {
    "id": "kcded_RFRxHc"
   },
   "outputs": [],
   "source": [
    "def f(x):\n",
    "    return x ** 2\n",
    "\n",
    "x_values = np.linspace(0, 1, 100)\n",
    "y_values = f(x_values)\n",
    "\n",
    "plt.plot(x_values, y_values, color = 'green', linestyle = '--')"
   ]
  },
  {
   "cell_type": "markdown",
   "metadata": {
    "id": "ftbAb60aRxHf"
   },
   "source": [
    "You can plot multiple functions on the same plot as follows:"
   ]
  },
  {
   "cell_type": "code",
   "execution_count": null,
   "metadata": {
    "id": "Q2KkOqtrRxHg"
   },
   "outputs": [],
   "source": [
    "def f(x):\n",
    "    return x ** 2\n",
    "\n",
    "def g(x):\n",
    "    return x ** 3\n",
    "\n",
    "x_values = np.linspace(0, 1, 100)\n",
    "f_values = f(x_values)\n",
    "g_values = g(x_values)\n",
    "\n",
    "plt.plot(x_values, f_values, color = 'green', linestyle = '--')\n",
    "plt.plot(x_values, g_values, color = 'red', linestyle = '-.')"
   ]
  },
  {
   "cell_type": "markdown",
   "metadata": {
    "id": "iB5iM9uRRxHo"
   },
   "source": [
    "Or say you have a function like $f(x) = a x^2$ that depends on some tunable parameter $a$, and suppose you want to plot $f(x)$ for many different values of $a$, then you could do that as follows"
   ]
  },
  {
   "cell_type": "code",
   "execution_count": null,
   "metadata": {
    "id": "Fj6ZFFl2RxHq"
   },
   "outputs": [],
   "source": [
    "def f(a,x):\n",
    "    return a * x ** 2\n",
    "\n",
    "x_values = np.linspace(0, 1, 100)\n",
    "\n",
    "for a in range(1, 20):\n",
    "    y_values = f(a, x_values)\n",
    "    plt.plot(x_values, y_values, color = 'red')"
   ]
  },
  {
   "cell_type": "markdown",
   "metadata": {
    "id": "qQEyymfIRxH6"
   },
   "source": [
    "Axis labels can be added like so:"
   ]
  },
  {
   "cell_type": "code",
   "execution_count": null,
   "metadata": {
    "id": "FEu0Rh19RxH7"
   },
   "outputs": [],
   "source": [
    "def f(a,x):\n",
    "    return a * x ** 2\n",
    "\n",
    "x_values = np.linspace(0, 1, 100)\n",
    "\n",
    "for a in range(1, 20):\n",
    "    y_values = f(a, x_values)\n",
    "    plt.plot(x_values, y_values, color = 'red)\n",
    "    \n",
    "plt.xlabel('donuts')\n",
    "plt.ylabel('productivity')\n",
    "plt.title('Productivity v. donuts')"
   ]
  },
  {
   "cell_type": "markdown",
   "metadata": {
    "id": "gExCJB_QRxIA"
   },
   "source": [
    "Built-in numpy functions can be plotted in the same way."
   ]
  },
  {
   "cell_type": "code",
   "execution_count": null,
   "metadata": {
    "id": "mPzXlFh3RxIB"
   },
   "outputs": [],
   "source": [
    "x_values = np.linspace(0, 5 * np.pi, 200)\n",
    "y_values = np.sin(x_values)\n",
    "\n",
    "plt.plot(x_values, y_values, 'green')"
   ]
  },
  {
   "cell_type": "markdown",
   "metadata": {
    "id": "YlP3ha46RxID"
   },
   "source": [
    "### Exercises - 2D plot creation\n",
    "\n",
    "1. Plot the sine and cosine functions on the same plot over the interval $[-3\\pi, 5\\pi]$.  Use a solid red line for the sine function, and a dashed green line for the cosine function.  Label the $x$-axis with the word \"angle\" and label the $y$-axis with the phrase \"function value.\"\n",
    "2. Generate a plot containing one curve for each $\\sin(n\\pi x)$ as $n$ ranges over the values $1, 2, \\dots 9$.  use solid lines for all curves, but have the highest \"frequency\" curve ($n = 9$) be plotted in blue, the lowest frequency curve ($n=1$) plotted in red, and the curves in between plotted in some gradient going from blue to red so that the middle frequency curve ($n=5$) appears in purple."
   ]
  }
 ],
 "metadata": {
  "anaconda-cloud": {},
  "colab": {
   "collapsed_sections": [],
   "name": "Module_2.ipynb",
   "provenance": [
    {
     "file_id": "1XSaXK-_CxYEMzOkvon9fPx9O6Q1T1ylQ",
     "timestamp": 1570150850194
    }
   ]
  },
  "kernelspec": {
   "display_name": "Python 3",
   "language": "python",
   "name": "python3"
  },
  "language_info": {
   "codemirror_mode": {
    "name": "ipython",
    "version": 3
   },
   "file_extension": ".py",
   "mimetype": "text/x-python",
   "name": "python",
   "nbconvert_exporter": "python",
   "pygments_lexer": "ipython3",
   "version": "3.8.8"
  }
 },
 "nbformat": 4,
 "nbformat_minor": 4
}
